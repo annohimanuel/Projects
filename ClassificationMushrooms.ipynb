{
 "cells": [
  {
   "cell_type": "markdown",
   "id": "a31246d9",
   "metadata": {},
   "source": [
    "## Machine Learning Final Project \n",
    "### Assignment : Building a classfication model to detect edible or poisonous mushrooms \n",
    "### Name : Imanuel Annoh "
   ]
  },
  {
   "cell_type": "markdown",
   "id": "ee9a468e",
   "metadata": {},
   "source": [
    "### Overview of Work \n",
    "\n",
    "This notebook shows the workflow of building a classification model from stratch capable of detecting whether a given mushroom was either edible of poisonous. The mushroom dataset(agaricus-lepiota) used here to train the classification model was drawn from The Audubon Society Field Guide to North American Mushrooms (1981). G. H. Lincoff (Pres.), New York: Alfred A. Knopf. To begin, the dataset agaricus-lepiota.csv was loaded and stored as a dataframe and used to train the machine model.The file agaricus lepiota.names was used for data description and also for understanding the features in the dataset. This file however was not used in the model's training process.  \n",
    "\n",
    "I preprocessed the data checking for missing or null values present in the dataset by calling the isnull().sum() function to check the number of missing values that were present in each column.\n",
    "The csv file was then split into features (X) and target variable (y). The target variable in this case was the first column denoting p or e for either poisionous or edible. The iloc function was used since it was a more straightfoward way to index the first column which was our target column and then using the remaining columns as our feature columns. After, the dataset was then further split into training (80%) and testing data (20%) using scikit learns import module train_test_split.\n",
    "\n",
    "Another preprocessing step of the dataset was performing a one hot encoding on our categorical features and label encoding on the target variable. One hot encoding was used to convert the categorical features into numerical binary columns for our machine learning model and label encoding was used to convert the target variable into numerical values; Both of which are useful in processing data more effectively by our machine learning model. \n",
    "I used the pd.get dummies function for one hot encoding to generate binary columns to serve as input for our neural network. I also used scikits learn module Label Encoder to convert my target variable into binary values where 0 was edible and 1 was poisonous. I then fit transform my y_train training data and then also transformed my y_test testing data. I also had to make sure my training set ( X_test_encoded ) and test set (X_test_encoded) had the same number of columns to maintain a consistent input for the model. \n",
    "\n",
    "I then constructed a neural network with two layers (An input layer and an output layer). The input layer consisted of 94 features after performing one hot encoding and my ouput layer was a single neuron with a sigmoid activation since this task was a binary classifier task. I compiled the network using the Adam optimizer, binary cross entropy loss and accuracy as my metric. I then trained the model on the one hot encoding training data and the training time was measured using the time magic command. \n",
    "\n",
    "It was then time to evaluate the neural network using a confusion matrix. One special note here was I had to convert my X_test_encoded variable into a numpy and float datatype because I kept getting a Value error where Tensor's model predict function could not handle my input data's datatype. Hence I had to ensure the data was in the correct format for tensor to handle it correctly. To make my predictions, I applied a threshold of 0.5 to the model’s output probabilities, converting them into binary class labels and then computed and displayed a confusion matrix to evaluate the model’s performance by comparing the actual and predicted labels. The confusion matrix display was then used to visualize the confusion matrix to show if there were any false negatives or positives.\n",
    "\n",
    "After evaluating the model I PCA'd the data to reduce the dimensionality which had been increased by one hot encoding. I was still however retaining 95% variance in the data while reducing the dimensionality of my data. The number of features after PCA was 38 compared to 94 in my original neural network. I performed the pca by calling the PCA module from sklearn and then I instantiated PCA in a new pca variable and then used this varible to fit transform the X_train encoded training data and transformed X_test encoded test data. \n",
    "\n",
    "I then trained a new neural model using this new transformed pca training and test data. So here instead of using the same input dimension prameter from my original neural network as my input_dim, I used this new pca training data. I also reduced the number of neurons from 32 to 16 since I was dealing with less number of features. This PCA based model was then trained and the training time was recorded with the time magic command. As with the original neural network, I also evaluated the models performance using sklearns confusion matrix module. \n",
    "\n",
    "I then saved the PCA model to a pickle file called model.pkl\n",
    "\n",
    "\n",
    "### Additional Notes / Results\n",
    "\n",
    "- There was no missing or null values in the dataset \n",
    "- The orignal neural network had a traing time of 1.77s at the end of 20 epochs with a validation and accuracy score of 1. Also the confusion matrix showed no false positives or negatives\n",
    "- The pca neural network had a training time of 1.75s at the end of 20 epochs with a accuracy score of 0.9996 and a validation score of 1. Also the confusion matrix showed no false positives or negatives\n",
    "- These results indicates that the model was able to properly classify whether a mushroom was edible or poisonous in both neural networks. \n",
    "\n",
    "\n",
    "\n",
    "\n",
    "\n"
   ]
  },
  {
   "cell_type": "code",
   "execution_count": 53,
   "id": "c642b0fe",
   "metadata": {},
   "outputs": [
    {
     "name": "stdout",
     "output_type": "stream",
     "text": [
      "1. Title: Mushroom Database\n",
      "\n",
      "2. Sources: \n",
      "    (a) Mushroom records drawn from The Audubon Society Field Guide to North\n",
      "        American Mushrooms (1981). G. H. Lincoff (Pres.), New York: Alfred\n",
      "        A. Knopf\n",
      "    (b) Donor: Jeff Schlimmer (Jeffrey.Schlimmer@a.gp.cs.cmu.edu)\n",
      "    (c) Date: 27 April 1987\n",
      "\n",
      "3. Past Usage:\n",
      "    1. Schlimmer,J.S. (1987). Concept Acquisition Through Representational\n",
      "       Adjustment (Technical Report 87-19).  Doctoral disseration, Department\n",
      "       of Information and Computer Science, University of California, Irvine.\n",
      "       --- STAGGER: asymptoted to 95% classification accuracy after reviewing\n",
      "           1000 instances.\n",
      "    2. Iba,W., Wogulis,J., & Langley,P. (1988).  Trading off Simplicity\n",
      "       and Coverage in Incremental Concept Learning. In Proceedings of \n",
      "       the 5th International Conference on Machine Learning, 73-79.\n",
      "       Ann Arbor, Michigan: Morgan Kaufmann.  \n",
      "       -- approximately the same results with their HILLARY algorithm    \n",
      "    3. In the following references a set of rules (given below) were\n",
      "\tlearned for this data set which may serve as a point of\n",
      "\tcomparison for other researchers.\n",
      "\n",
      "\tDuch W, Adamczak R, Grabczewski K (1996) Extraction of logical rules\n",
      "\tfrom training data using backpropagation networks, in: Proc. of the\n",
      "\tThe 1st Online Workshop on Soft Computing, 19-30.Aug.1996, pp. 25-30,\n",
      "\tavailable on-line at: http://www.bioele.nuee.nagoya-u.ac.jp/wsc1/\n",
      "\n",
      "\tDuch W, Adamczak R, Grabczewski K, Ishikawa M, Ueda H, Extraction of\n",
      "\tcrisp logical rules using constrained backpropagation networks -\n",
      "\tcomparison of two new approaches, in: Proc. of the European Symposium\n",
      "\ton Artificial Neural Networks (ESANN'97), Bruge, Belgium 16-18.4.1997,\n",
      "\tpp. xx-xx\n",
      "\n",
      "\tWlodzislaw Duch, Department of Computer Methods, Nicholas Copernicus\n",
      "\tUniversity, 87-100 Torun, Grudziadzka 5, Poland\n",
      "\te-mail: duch@phys.uni.torun.pl\n",
      "\tWWW     http://www.phys.uni.torun.pl/kmk/\n",
      "\t\n",
      "\tDate: Mon, 17 Feb 1997 13:47:40 +0100\n",
      "\tFrom: Wlodzislaw Duch <duch@phys.uni.torun.pl>\n",
      "\tOrganization: Dept. of Computer Methods, UMK\n",
      "\n",
      "\tI have attached a file containing logical rules for mushrooms.\n",
      "\tIt should be helpful for other people since only in the last year I\n",
      "\thave seen about 10 papers analyzing this dataset and obtaining quite\n",
      "\tcomplex rules. We will try to contribute other results later.\n",
      "\n",
      "\tWith best regards, Wlodek Duch\n",
      "\t________________________________________________________________\n",
      "\n",
      "\tLogical rules for the mushroom data sets.\n",
      "\n",
      "\tLogical rules given below seem to be the simplest possible for the\n",
      "\tmushroom dataset and therefore should be treated as benchmark results.\n",
      "\n",
      "\tDisjunctive rules for poisonous mushrooms, from most general\n",
      "\tto most specific:\n",
      "\n",
      "\tP_1) odor=NOT(almond.OR.anise.OR.none)\n",
      "\t     120 poisonous cases missed, 98.52% accuracy\n",
      "\n",
      "\tP_2) spore-print-color=green\n",
      "\t     48 cases missed, 99.41% accuracy\n",
      "         \n",
      "\tP_3) odor=none.AND.stalk-surface-below-ring=scaly.AND.\n",
      "\t          (stalk-color-above-ring=NOT.brown) \n",
      "\t     8 cases missed, 99.90% accuracy\n",
      "         \n",
      "\tP_4) habitat=leaves.AND.cap-color=white\n",
      "\t         100% accuracy     \n",
      "\n",
      "\tRule P_4) may also be\n",
      "\n",
      "\tP_4') population=clustered.AND.cap_color=white\n",
      "\n",
      "\tThese rule involve 6 attributes (out of 22). Rules for edible\n",
      "\tmushrooms are obtained as negation of the rules given above, for\n",
      "\texample the rule:\n",
      "\n",
      "\todor=(almond.OR.anise.OR.none).AND.spore-print-color=NOT.green\n",
      "\n",
      "\tgives 48 errors, or 99.41% accuracy on the whole dataset.\n",
      "\n",
      "\tSeveral slightly more complex variations on these rules exist,\n",
      "\tinvolving other attributes, such as gill_size, gill_spacing,\n",
      "\tstalk_surface_above_ring, but the rules given above are the simplest\n",
      "\twe have found.\n",
      "\n",
      "\n",
      "4. Relevant Information:\n",
      "    This data set includes descriptions of hypothetical samples\n",
      "    corresponding to 23 species of gilled mushrooms in the Agaricus and\n",
      "    Lepiota Family (pp. 500-525).  Each species is identified as\n",
      "    definitely edible, definitely poisonous, or of unknown edibility and\n",
      "    not recommended.  This latter class was combined with the poisonous\n",
      "    one.  The Guide clearly states that there is no simple rule for\n",
      "    determining the edibility of a mushroom; no rule like ``leaflets\n",
      "    three, let it be'' for Poisonous Oak and Ivy.\n",
      "\n",
      "5. Number of Instances: 8124\n",
      "\n",
      "6. Number of Attributes: 22 (all nominally valued)\n",
      "\n",
      "7. Attribute Information: (classes: edible=e, poisonous=p)\n",
      "     1. cap-shape:                bell=b,conical=c,convex=x,flat=f,\n",
      "                                  knobbed=k,sunken=s\n",
      "     2. cap-surface:              fibrous=f,grooves=g,scaly=y,smooth=s\n",
      "     3. cap-color:                brown=n,buff=b,cinnamon=c,gray=g,green=r,\n",
      "                                  pink=p,purple=u,red=e,white=w,yellow=y\n",
      "     4. bruises?:                 bruises=t,no=f\n",
      "     5. odor:                     almond=a,anise=l,creosote=c,fishy=y,foul=f,\n",
      "                                  musty=m,none=n,pungent=p,spicy=s\n",
      "     6. gill-attachment:          attached=a,descending=d,free=f,notched=n\n",
      "     7. gill-spacing:             close=c,crowded=w,distant=d\n",
      "     8. gill-size:                broad=b,narrow=n\n",
      "     9. gill-color:               black=k,brown=n,buff=b,chocolate=h,gray=g,\n",
      "                                  green=r,orange=o,pink=p,purple=u,red=e,\n",
      "                                  white=w,yellow=y\n",
      "    10. stalk-shape:              enlarging=e,tapering=t\n",
      "    11. stalk-root:               bulbous=b,club=c,cup=u,equal=e,\n",
      "                                  rhizomorphs=z,rooted=r,missing=?\n",
      "    12. stalk-surface-above-ring: fibrous=f,scaly=y,silky=k,smooth=s\n",
      "    13. stalk-surface-below-ring: fibrous=f,scaly=y,silky=k,smooth=s\n",
      "    14. stalk-color-above-ring:   brown=n,buff=b,cinnamon=c,gray=g,orange=o,\n",
      "                                  pink=p,red=e,white=w,yellow=y\n",
      "    15. stalk-color-below-ring:   brown=n,buff=b,cinnamon=c,gray=g,orange=o,\n",
      "                                  pink=p,red=e,white=w,yellow=y\n",
      "    16. veil-type:                partial=p,universal=u\n",
      "    17. veil-color:               brown=n,orange=o,white=w,yellow=y\n",
      "    18. ring-number:              none=n,one=o,two=t\n",
      "    19. ring-type:                cobwebby=c,evanescent=e,flaring=f,large=l,\n",
      "                                  none=n,pendant=p,sheathing=s,zone=z\n",
      "    20. spore-print-color:        black=k,brown=n,buff=b,chocolate=h,green=r,\n",
      "                                  orange=o,purple=u,white=w,yellow=y\n",
      "    21. population:               abundant=a,clustered=c,numerous=n,\n",
      "                                  scattered=s,several=v,solitary=y\n",
      "    22. habitat:                  grasses=g,leaves=l,meadows=m,paths=p,\n",
      "                                  urban=u,waste=w,woods=d\n",
      "\n",
      "8. Missing Attribute Values: 2480 of them (denoted by \"?\"), all for\n",
      "   attribute #11.\n",
      "\n",
      "9. Class Distribution: \n",
      "    --    edible: 4208 (51.8%)\n",
      "    -- poisonous: 3916 (48.2%)\n",
      "    --     total: 8124 instances\n",
      "\n"
     ]
    }
   ],
   "source": [
    "#Common imports for loading dataset \n",
    "import numpy as np \n",
    "import pandas as pd \n",
    "\n",
    "#Description of the mushroom dataset \n",
    "with open('Data/agaricus-lepiota.names', 'r') as f:\n",
    "    names = f.read()\n",
    "    print(names)\n",
    "\n",
    "#Loading the csv file \n",
    "mushroom_data = pd.read_csv('Data/agaricus-lepiota.csv', header=None)\n"
   ]
  },
  {
   "cell_type": "code",
   "execution_count": 54,
   "id": "1bb70c18",
   "metadata": {},
   "outputs": [
    {
     "data": {
      "text/plain": [
       "0     0\n",
       "1     0\n",
       "2     0\n",
       "3     0\n",
       "4     0\n",
       "5     0\n",
       "6     0\n",
       "7     0\n",
       "8     0\n",
       "9     0\n",
       "10    0\n",
       "11    0\n",
       "12    0\n",
       "13    0\n",
       "14    0\n",
       "15    0\n",
       "16    0\n",
       "17    0\n",
       "18    0\n",
       "19    0\n",
       "20    0\n",
       "21    0\n",
       "22    0\n",
       "dtype: int64"
      ]
     },
     "execution_count": 54,
     "metadata": {},
     "output_type": "execute_result"
    }
   ],
   "source": [
    "#Checking for null or missing values\n",
    "missing_values = mushroom_data.isnull().sum()\n",
    "missing_values"
   ]
  },
  {
   "cell_type": "code",
   "execution_count": 55,
   "id": "66f4f2fa",
   "metadata": {},
   "outputs": [],
   "source": [
    "#Splitting the csv file into training and testing data \n",
    "from sklearn.model_selection import train_test_split\n",
    "\n",
    "X = mushroom_data.iloc[:, 1:]  #Features \n",
    "y = mushroom_data.iloc[:, 0]   # Target variable \n",
    "\n",
    "X_train, X_test, y_train, y_test = train_test_split(X, y, test_size = 0.2, random_state = 42, stratify = y)"
   ]
  },
  {
   "cell_type": "code",
   "execution_count": 56,
   "id": "19d5da1a",
   "metadata": {},
   "outputs": [],
   "source": [
    "#One-Hot Encoding features\n",
    "X_train_encoded = pd.get_dummies(X_train, drop_first = True)\n",
    "X_test_encoded = pd.get_dummies(X_test, drop_first = True)\n",
    "\n",
    "#Ensuring the training and test sets have the same number of columns \n",
    "X_test_encoded = X_test_encoded.reindex(columns = X_train_encoded.columns, fill_value = 0)\n",
    "\n",
    "\n",
    "#Label Encoding the target variable \n",
    "from sklearn.preprocessing import LabelEncoder\n",
    "label_encoder = LabelEncoder()\n",
    "y_train_encoded = label_encoder.fit_transform(y_train)\n",
    "y_test_encoded = label_encoder.transform(y_test)\n"
   ]
  },
  {
   "cell_type": "code",
   "execution_count": 57,
   "id": "32aac6e0",
   "metadata": {},
   "outputs": [],
   "source": [
    "#Creating a neural network \n",
    "import tensorflow as tf\n",
    "from tensorflow.keras.models import Sequential\n",
    "from tensorflow.keras.layers import Dense\n",
    "\n",
    "# Defining the neural network\n",
    "model = Sequential([Dense(units = 32, activation = 'relu', input_dim= X_train_encoded.shape[1]),Dense(units= 1, activation='sigmoid')])\n",
    "\n",
    "# Compiling the model\n",
    "model.compile(optimizer='adam', loss = 'binary_crossentropy', metrics=['accuracy'])"
   ]
  },
  {
   "cell_type": "code",
   "execution_count": 58,
   "id": "b65120a5",
   "metadata": {},
   "outputs": [
    {
     "name": "stdout",
     "output_type": "stream",
     "text": [
      "Epoch 1/20\n",
      "163/163 [==============================] - 0s 794us/step - loss: 0.2562 - accuracy: 0.9242 - val_loss: 0.0969 - val_accuracy: 0.9715\n",
      "Epoch 2/20\n",
      "163/163 [==============================] - 0s 470us/step - loss: 0.0567 - accuracy: 0.9875 - val_loss: 0.0361 - val_accuracy: 0.9954\n",
      "Epoch 3/20\n",
      "163/163 [==============================] - 0s 447us/step - loss: 0.0237 - accuracy: 0.9967 - val_loss: 0.0188 - val_accuracy: 0.9985\n",
      "Epoch 4/20\n",
      "163/163 [==============================] - 0s 439us/step - loss: 0.0130 - accuracy: 0.9990 - val_loss: 0.0112 - val_accuracy: 1.0000\n",
      "Epoch 5/20\n",
      "163/163 [==============================] - 0s 436us/step - loss: 0.0082 - accuracy: 0.9994 - val_loss: 0.0078 - val_accuracy: 1.0000\n",
      "Epoch 6/20\n",
      "163/163 [==============================] - 0s 432us/step - loss: 0.0055 - accuracy: 0.9996 - val_loss: 0.0053 - val_accuracy: 1.0000\n",
      "Epoch 7/20\n",
      "163/163 [==============================] - 0s 444us/step - loss: 0.0039 - accuracy: 0.9998 - val_loss: 0.0040 - val_accuracy: 1.0000\n",
      "Epoch 8/20\n",
      "163/163 [==============================] - 0s 434us/step - loss: 0.0029 - accuracy: 1.0000 - val_loss: 0.0030 - val_accuracy: 1.0000\n",
      "Epoch 9/20\n",
      "163/163 [==============================] - 0s 426us/step - loss: 0.0022 - accuracy: 1.0000 - val_loss: 0.0025 - val_accuracy: 1.0000\n",
      "Epoch 10/20\n",
      "163/163 [==============================] - 0s 528us/step - loss: 0.0018 - accuracy: 1.0000 - val_loss: 0.0021 - val_accuracy: 1.0000\n",
      "Epoch 11/20\n",
      "163/163 [==============================] - 0s 448us/step - loss: 0.0014 - accuracy: 1.0000 - val_loss: 0.0018 - val_accuracy: 1.0000\n",
      "Epoch 12/20\n",
      "163/163 [==============================] - 0s 462us/step - loss: 0.0011 - accuracy: 1.0000 - val_loss: 0.0014 - val_accuracy: 1.0000\n",
      "Epoch 13/20\n",
      "163/163 [==============================] - 0s 454us/step - loss: 9.6290e-04 - accuracy: 1.0000 - val_loss: 0.0012 - val_accuracy: 1.0000\n",
      "Epoch 14/20\n",
      "163/163 [==============================] - 0s 447us/step - loss: 7.9158e-04 - accuracy: 1.0000 - val_loss: 9.7761e-04 - val_accuracy: 1.0000\n",
      "Epoch 15/20\n",
      "163/163 [==============================] - 0s 449us/step - loss: 6.6092e-04 - accuracy: 1.0000 - val_loss: 8.0123e-04 - val_accuracy: 1.0000\n",
      "Epoch 16/20\n",
      "163/163 [==============================] - 0s 459us/step - loss: 5.6717e-04 - accuracy: 1.0000 - val_loss: 7.5601e-04 - val_accuracy: 1.0000\n",
      "Epoch 17/20\n",
      "163/163 [==============================] - 0s 434us/step - loss: 4.8611e-04 - accuracy: 1.0000 - val_loss: 6.1214e-04 - val_accuracy: 1.0000\n",
      "Epoch 18/20\n",
      "163/163 [==============================] - 0s 444us/step - loss: 4.2187e-04 - accuracy: 1.0000 - val_loss: 5.4091e-04 - val_accuracy: 1.0000\n",
      "Epoch 19/20\n",
      "163/163 [==============================] - 0s 434us/step - loss: 3.6348e-04 - accuracy: 1.0000 - val_loss: 4.6569e-04 - val_accuracy: 1.0000\n",
      "Epoch 20/20\n",
      "163/163 [==============================] - 0s 437us/step - loss: 3.1783e-04 - accuracy: 1.0000 - val_loss: 4.4285e-04 - val_accuracy: 1.0000\n",
      "CPU times: user 1.94 s, sys: 784 ms, total: 2.72 s\n",
      "Wall time: 1.82 s\n"
     ]
    }
   ],
   "source": [
    "%%time\n",
    "history = model.fit(X_train_encoded, y_train_encoded, epochs=20, batch_size=32, validation_split=0.2, verbose=1) #training the model and measuring how long it took to run"
   ]
  },
  {
   "cell_type": "code",
   "execution_count": 59,
   "id": "7716d99a",
   "metadata": {},
   "outputs": [
    {
     "name": "stdout",
     "output_type": "stream",
     "text": [
      "51/51 [==============================] - 0s 300us/step\n",
      "51/51 [==============================] - 0s 239us/step\n"
     ]
    },
    {
     "data": {
      "text/plain": [
       "<sklearn.metrics._plot.confusion_matrix.ConfusionMatrixDisplay at 0x3172ee520>"
      ]
     },
     "execution_count": 59,
     "metadata": {},
     "output_type": "execute_result"
    },
    {
     "data": {
      "image/png": "[encoded data removed]",
      "text/plain": [
       "<Figure size 640x480 with 2 Axes>"
      ]
     },
     "metadata": {},
     "output_type": "display_data"
    }
   ],
   "source": [
    "#Analyzing results with Confusion Matrix \n",
    "from sklearn.metrics import ConfusionMatrixDisplay, confusion_matrix\n",
    "\n",
    "# Ensuring X_test_encoded is in a numpy array and a float datatypes to fix mismatched datatypes \n",
    "X_test_encoded = X_test_encoded.to_numpy()  \n",
    "X_test_encoded = X_test_encoded.astype('float32')  # Ensure float32 data type\n",
    "\n",
    "# Making predictions\n",
    "y_predictions = (model.predict(X_test_encoded) > 0.5).astype(int)\n",
    "# Make predictions\n",
    "y_predictions = (model.predict(X_test_encoded) > 0.5).astype(int)\n",
    "\n",
    "# Compute and displaying the confusion matrix\n",
    "cm = confusion_matrix(y_test_encoded, y_predictions)\n",
    "display = ConfusionMatrixDisplay(confusion_matrix= cm, display_labels= label_encoder.classes_)\n",
    "display.plot()"
   ]
  },
  {
   "cell_type": "code",
   "execution_count": 60,
   "id": "42bf8b9a",
   "metadata": {},
   "outputs": [
    {
     "name": "stdout",
     "output_type": "stream",
     "text": [
      "38\n"
     ]
    },
    {
     "name": "stderr",
     "output_type": "stream",
     "text": [
      "/Users/imanuelannoh/anaconda3/envs/dtsc680/lib/python3.8/site-packages/sklearn/base.py:465: UserWarning: X does not have valid feature names, but PCA was fitted with feature names\n",
      "  warnings.warn(\n"
     ]
    }
   ],
   "source": [
    "# Performing dimensionality reduction with PCA \n",
    "from sklearn.decomposition import PCA\n",
    "\n",
    "# Performing PCA (0.95 retaining variance)\n",
    "pca = PCA(n_components= 0.95)  \n",
    "X_train_pca = pca.fit_transform(X_train_encoded)\n",
    "X_test_pca = pca.transform(X_test_encoded)\n",
    "\n",
    "# Number of features after PCA\n",
    "print(X_train_pca.shape[1])"
   ]
  },
  {
   "cell_type": "code",
   "execution_count": 61,
   "id": "235befd9",
   "metadata": {},
   "outputs": [],
   "source": [
    "#Training Neural Network on PCA data \n",
    "# Define the new neural network\n",
    "pca_model = Sequential([Dense(units=16, activation='relu', input_dim=X_train_pca.shape[1]),Dense(units=1, activation='sigmoid')])\n",
    "\n",
    "# Compile the new pca model\n",
    "pca_model.compile(optimizer='adam', loss='binary_crossentropy', metrics=['accuracy'])\n"
   ]
  },
  {
   "cell_type": "code",
   "execution_count": 62,
   "id": "6d9cf0c7",
   "metadata": {},
   "outputs": [
    {
     "name": "stdout",
     "output_type": "stream",
     "text": [
      "Epoch 1/20\n",
      "163/163 [==============================] - 0s 757us/step - loss: 0.4144 - accuracy: 0.8896 - val_loss: 0.2568 - val_accuracy: 0.9646\n",
      "Epoch 2/20\n",
      "163/163 [==============================] - 0s 450us/step - loss: 0.1720 - accuracy: 0.9740 - val_loss: 0.1178 - val_accuracy: 0.9754\n",
      "Epoch 3/20\n",
      "163/163 [==============================] - 0s 418us/step - loss: 0.0895 - accuracy: 0.9817 - val_loss: 0.0722 - val_accuracy: 0.9838\n",
      "Epoch 4/20\n",
      "163/163 [==============================] - 0s 421us/step - loss: 0.0594 - accuracy: 0.9856 - val_loss: 0.0514 - val_accuracy: 0.9877\n",
      "Epoch 5/20\n",
      "163/163 [==============================] - 0s 412us/step - loss: 0.0438 - accuracy: 0.9898 - val_loss: 0.0386 - val_accuracy: 0.9938\n",
      "Epoch 6/20\n",
      "163/163 [==============================] - 0s 434us/step - loss: 0.0343 - accuracy: 0.9933 - val_loss: 0.0303 - val_accuracy: 0.9946\n",
      "Epoch 7/20\n",
      "163/163 [==============================] - 0s 432us/step - loss: 0.0275 - accuracy: 0.9958 - val_loss: 0.0243 - val_accuracy: 0.9969\n",
      "Epoch 8/20\n",
      "163/163 [==============================] - 0s 424us/step - loss: 0.0225 - accuracy: 0.9967 - val_loss: 0.0201 - val_accuracy: 0.9969\n",
      "Epoch 9/20\n",
      "163/163 [==============================] - 0s 421us/step - loss: 0.0188 - accuracy: 0.9973 - val_loss: 0.0169 - val_accuracy: 0.9977\n",
      "Epoch 10/20\n",
      "163/163 [==============================] - 0s 423us/step - loss: 0.0158 - accuracy: 0.9979 - val_loss: 0.0147 - val_accuracy: 0.9977\n",
      "Epoch 11/20\n",
      "163/163 [==============================] - 0s 417us/step - loss: 0.0134 - accuracy: 0.9981 - val_loss: 0.0123 - val_accuracy: 0.9985\n",
      "Epoch 12/20\n",
      "163/163 [==============================] - 0s 424us/step - loss: 0.0114 - accuracy: 0.9981 - val_loss: 0.0109 - val_accuracy: 0.9992\n",
      "Epoch 13/20\n",
      "163/163 [==============================] - 0s 412us/step - loss: 0.0097 - accuracy: 0.9985 - val_loss: 0.0090 - val_accuracy: 0.9992\n",
      "Epoch 14/20\n",
      "163/163 [==============================] - 0s 423us/step - loss: 0.0083 - accuracy: 0.9988 - val_loss: 0.0084 - val_accuracy: 0.9992\n",
      "Epoch 15/20\n",
      "163/163 [==============================] - 0s 420us/step - loss: 0.0072 - accuracy: 0.9988 - val_loss: 0.0075 - val_accuracy: 0.9992\n",
      "Epoch 16/20\n",
      "163/163 [==============================] - 0s 426us/step - loss: 0.0063 - accuracy: 0.9990 - val_loss: 0.0066 - val_accuracy: 0.9992\n",
      "Epoch 17/20\n",
      "163/163 [==============================] - 0s 425us/step - loss: 0.0054 - accuracy: 0.9992 - val_loss: 0.0062 - val_accuracy: 0.9992\n",
      "Epoch 18/20\n",
      "163/163 [==============================] - 0s 421us/step - loss: 0.0047 - accuracy: 0.9994 - val_loss: 0.0053 - val_accuracy: 0.9992\n",
      "Epoch 19/20\n",
      "163/163 [==============================] - 0s 423us/step - loss: 0.0041 - accuracy: 0.9996 - val_loss: 0.0050 - val_accuracy: 0.9992\n",
      "Epoch 20/20\n",
      "163/163 [==============================] - 0s 421us/step - loss: 0.0036 - accuracy: 0.9996 - val_loss: 0.0042 - val_accuracy: 0.9992\n",
      "CPU times: user 1.85 s, sys: 697 ms, total: 2.55 s\n",
      "Wall time: 1.65 s\n"
     ]
    }
   ],
   "source": [
    "%%time\n",
    "pca_history = pca_model.fit(X_train_pca, y_train_encoded, epochs=20, batch_size=32, validation_split=0.2, verbose=1)"
   ]
  },
  {
   "cell_type": "code",
   "execution_count": 63,
   "id": "735f7bc7",
   "metadata": {},
   "outputs": [
    {
     "name": "stdout",
     "output_type": "stream",
     "text": [
      "51/51 [==============================] - 0s 319us/step\n"
     ]
    },
    {
     "data": {
      "text/plain": [
       "<sklearn.metrics._plot.confusion_matrix.ConfusionMatrixDisplay at 0x3188a7430>"
      ]
     },
     "execution_count": 63,
     "metadata": {},
     "output_type": "execute_result"
    },
    {
     "data": {
      "image/png": "[encoded data removed]",
      "text/plain": [
       "<Figure size 640x480 with 2 Axes>"
      ]
     },
     "metadata": {},
     "output_type": "display_data"
    }
   ],
   "source": [
    "# Predictions with PCA model\n",
    "y_pca_prediction = (pca_model.predict(X_test_pca) > 0.5).astype(int)\n",
    "\n",
    "# Computing the confusion matrix\n",
    "pca_cm = confusion_matrix(y_test_encoded, y_pca_prediction)\n",
    "\n",
    "# Displaying the confusion matrix\n",
    "pca_display = ConfusionMatrixDisplay(confusion_matrix=pca_cm, display_labels=label_encoder.classes_)\n",
    "pca_display.plot()"
   ]
  },
  {
   "cell_type": "code",
   "execution_count": 64,
   "id": "60b85d6e",
   "metadata": {},
   "outputs": [],
   "source": [
    "#Saving the PCA model \n",
    "import pickle\n",
    "with open('model.pkl', 'wb') as file:\n",
    "    pickle.dump(pca, file)"
   ]
  },
  {
   "cell_type": "code",
   "execution_count": 50,
   "id": "bb70f940",
   "metadata": {},
   "outputs": [
    {
     "name": "stdout",
     "output_type": "stream",
     "text": [
      "Model: \"sequential_3\"\n",
      "_________________________________________________________________\n",
      " Layer (type)                Output Shape              Param #   \n",
      "=================================================================\n",
      " dense_6 (Dense)             (None, 32)                3040      \n",
      "                                                                 \n",
      " dense_7 (Dense)             (None, 1)                 33        \n",
      "                                                                 \n",
      "=================================================================\n",
      "Total params: 3,073\n",
      "Trainable params: 3,073\n",
      "Non-trainable params: 0\n",
      "_________________________________________________________________\n"
     ]
    }
   ],
   "source": [
    "#Model Summary \n",
    "model.summary()"
   ]
  },
  {
   "cell_type": "markdown",
   "id": "c44fca78",
   "metadata": {},
   "source": [
    "## Concept Questions\n",
    "\n",
    "a. How many features does the data have after the One-Hot Encoding? How does\n",
    "this compare to the number of features that the data had before the encoding?\n",
    "\n",
    "After one hot encoding the number of features increased from 22 to 94. \n",
    "\n",
    "\n",
    "b. What should the units parameter of the second layer in the network be and why?\n",
    "\n",
    "Since this is a binary classification problem, the second layer should have 1 unit parameter and also with a \n",
    "sigmoid activation\n",
    "\n",
    "\n",
    "c. How many connections does your neural network contain?\n",
    "\n",
    "3073 connections \n",
    "\n",
    "\n",
    "d. How many features does the training data contain after dimensionality reduction?\n",
    "How does this compare with the encoded data?\n",
    "\n",
    "38 features after perfoming dimensionality reduction which is a decrease from 94 features after performing one hot encoding. \n",
    "\n",
    "\n",
    "e. Why does the input_dim parameter of the first layer need to change from the\n",
    "previous neural network?\n",
    "\n",
    "The input_dim parameter needed to change since the number of features changed. The input_dim parameter always must \n",
    "equal the number of features put into the model for training. \n",
    "\n",
    "\n",
    "f. Compare the training time of the original neural network with the training time of\n",
    "the PCA neural network. Are the results what you expected?\n",
    "\n",
    "The training time of the original neural network did not change much from the pca neural network. I did expect the pca neural network to train faster since it had a reduced number of features compared to the origional neural network with 94 features\n",
    "\n"
   ]
  }
 ],
 "metadata": {
  "kernelspec": {
   "display_name": "Python [conda env:base] *",
   "language": "python",
   "name": "conda-base-py"
  },
  "language_info": {
   "codemirror_mode": {
    "name": "ipython",
    "version": 3
   },
   "file_extension": ".py",
   "mimetype": "text/x-python",
   "name": "python",
   "nbconvert_exporter": "python",
   "pygments_lexer": "ipython3",
   "version": "3.12.7"
  }
 },
 "nbformat": 4,
 "nbformat_minor": 5
}
